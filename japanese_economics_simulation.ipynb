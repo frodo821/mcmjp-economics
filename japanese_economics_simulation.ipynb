{
 "cells": [
  {
   "cell_type": "markdown",
   "source": [
    "# モンテカルロ法で日本経済をシミュレーションしたい！【JPES 第1回】\n",
    "\n",
    "## モデル\n",
    "### 公共投資 $G$\n",
    "政府が企業に対して投じるお金. 公共サービスの対価.\n",
    "\n",
    "### 投資 $I$\n",
    "銀行などの経済主体が企業に対して投じるお金. 返済が必要.\n",
    "\n",
    "### 所得税 $\\tau$\n",
    "自然人の所得に対して課される税金.\n",
    "\n",
    "### 消費率 $u$\n",
    "自然人の可処分所得に対して消費されるお金の割合.\n",
    "\n",
    "### 返済 $R$\n",
    "何らかの債務に対して返済されるお金.\n",
    "\n",
    "### 所得 $g$\n",
    "自然人の総所得金額.\n",
    "\n",
    "### 租税 $T = g\\tau$\n",
    "政府が課した租税収入の総額.\n",
    "\n",
    "### 消費 $C = gu(1-\\tau)$\n",
    "自然人の消費した財の総額.\n",
    "\n",
    "### 貯蓄 $S$\n",
    "自然人の行った貯蓄の総額.\n",
    "\n",
    "### 稼働率 $r$\n",
    "生産力に対して実際に生産された財の量の割合.\n",
    "\n",
    "### 生産量 $w(I) = \\alpha I$\n",
    "投資に対して生産可能な財の最大量. $\\alpha$は任意の定数.\n",
    "\n",
    "### 需要 $d(p) = \\frac{\\gamma}{p}$\n",
    "価格$p$のときに発生する財の需要の総量.\n",
    "\n",
    "### 求解してみる\n",
    "\n",
    "上記の条件の下で, \n",
    "$$\n",
    "wr = {\\rm min}(\\theta p, w) \\\\\n",
    "\\frac{\\gamma}{p} = \\theta p \\\\\n",
    "\\theta\\gamma = p^2 \\\\\n",
    "p = \\sqrt{\\frac{\\gamma}{\\theta}} \\\\\n",
    "$$\n",
    "\n",
    "また,\n",
    "\n",
    "$$\n",
    "\\begin{aligned}\n",
    "    G + I + C &= R + g \\\\\n",
    "    &= T + S + C \\\\\n",
    "    &= \\tau g + S + C \\\\\n",
    "    &= \\tau g + S + (1-\\tau)ug\n",
    "\\end{aligned}\n",
    "$$\n",
    "\n",
    "可処分所得 $(1 - \\tau)g$\n",
    "\n",
    "$$\n",
    "\\begin{aligned}\n",
    "    \\frac{I}{\\beta} &< \\sqrt{\\frac{\\gamma}{\\theta}} \\\\\n",
    "    \\theta &< \\frac{\\gamma\\beta^2}{I^2}\n",
    "\\end{aligned}\n",
    "$$\n",
    "\n",
    "$\\theta > \\frac{\\gamma\\beta^2}{I^2}$ なので, $\\theta = s\\frac{\\gamma\\beta^2}{I^2}$ と置く.\n",
    "\n",
    "均衡価格 $p = \\sqrt{\\frac{\\gamma}{\\theta}} = \\sqrt{\\frac{\\gamma}{s\\frac{\\gamma\\beta^2}{I^2}}} = \\frac{I}{\\sqrt{s}\\beta}$\n",
    "\n",
    "$\\theta_D = \\frac{\\gamma\\beta^2}{I^2}$のときの$p = \\frac{I}{\\beta}$を ___投資均衡価格___ と呼ぶことにする.\n",
    "\n",
    "需要 $d = \\frac{\\gamma}{p} = \\frac{\\sqrt{s}\\beta\\gamma}{I} = \\frac{\\sqrt{s}\\beta C}{I} = wr$\n",
    "消費 $C = dp = \\gamma = wrp = (\\alpha I)r\\frac{I}{\\beta} = \\frac{\\alpha r}{\\beta} I^2$\n",
    "\n",
    "$\\frac{\\sqrt{s}\\beta C}{I} = \\alpha Ir$なので, つまり,\n",
    "\n",
    "$$\n",
    "\\begin{aligned}\n",
    "     \\sqrt{s} &= \\frac{\\alpha I^2}{\\beta C}r \\\\\n",
    "     &= \\frac{\\frac{\\alpha}{\\beta}r(\\frac{\\beta}{\\beta-1})^2((1 - u + u\\tau)g - G)^2}{(1 - \\tau)ug} \\\\\n",
    "     &= \\frac{\\alpha\\beta rg(1-u+u\\tau - \\frac{G}{g})^2}{(\\beta-1)^2(1-\\tau)u}\n",
    "\\end{aligned}\n",
    "$$\n",
    "\n",
    "$$\n",
    "\\begin{aligned}\n",
    "C &= wrp\\\\\n",
    "&= (\\theta p)p\\\\\n",
    "&= \\theta p^2\\\\\n",
    "&= s\\frac{\\gamma\\beta^2}{I^2}p^2\\\\\n",
    "&= (1 - \\tau)ug\\\\\n",
    "\\end{aligned}\n",
    "$$"
   ],
   "metadata": {}
  },
  {
   "cell_type": "code",
   "execution_count": 1,
   "source": [
    "from sympy import *\r\n",
    "\r\n",
    "I = Symbol('I', real=True, positive=True)\r\n",
    "r = Symbol('r', real=True, positive=True)\r\n",
    "w = I * Symbol('{\\\\alpha}', real=True, positive=True)\r\n",
    "p = Symbol('p', real=True, positive=True)\r\n",
    "g = Symbol('g', real=True, positive=True)\r\n",
    "tau = Symbol('{\\\\tau}', real=True, positive=True)\r\n",
    "u = Symbol('u', real=True, positive=True)\r\n",
    "d = Symbol('{\\\\gamma}', real=True, positive=True)/p\r\n",
    "T = g*tau\r\n",
    "C = g*u*(1-tau)\r\n",
    "S = Symbol('S', real=True, positive=True)\r\n",
    "s = Symbol('s', real=True, positive=True)\r\n",
    "beta = Symbol('{\\\\beta}', real=True, positive=True)"
   ],
   "outputs": [],
   "metadata": {}
  },
  {
   "cell_type": "code",
   "execution_count": 2,
   "source": [
    "sf = solve(sqrt(s)*beta*C / I - w*r, s)[0]"
   ],
   "outputs": [],
   "metadata": {}
  },
  {
   "cell_type": "code",
   "execution_count": 3,
   "source": [
    "simplify(sqrt(sf))"
   ],
   "outputs": [
    {
     "output_type": "execute_result",
     "data": {
      "text/plain": [
       "I**2*r*{\\alpha}/(g*u*{\\beta}*Abs({\\tau} - 1))"
      ],
      "text/latex": [
       "$\\displaystyle \\frac{I^{2} r {\\alpha}}{g u {\\beta} \\left|{{\\tau} - 1}\\right|}$"
      ]
     },
     "metadata": {},
     "execution_count": 3
    }
   ],
   "metadata": {}
  }
 ],
 "metadata": {
  "kernelspec": {
   "display_name": "Python 3",
   "language": "python",
   "name": "python3"
  },
  "language_info": {
   "codemirror_mode": {
    "name": "ipython",
    "version": 3
   },
   "file_extension": ".py",
   "mimetype": "text/x-python",
   "name": "python",
   "nbconvert_exporter": "python",
   "pygments_lexer": "ipython3",
   "version": "3.9.5"
  }
 },
 "nbformat": 4,
 "nbformat_minor": 5
}